{
 "cells": [
  {
   "cell_type": "code",
   "execution_count": 18,
   "metadata": {},
   "outputs": [
    {
     "name": "stdout",
     "output_type": "stream",
     "text": [
      "Erik\n",
      "Devin\n",
      "Alexandra\n",
      "Russell\n",
      "Edward\n",
      "Ian\n",
      "Derrick\n",
      "Veronica\n",
      "Frederick\n",
      "Sheena\n",
      "Roger\n",
      "Andrew\n",
      "Meagan\n",
      "Dakota\n",
      "Antonio\n",
      "Kaitlyn\n",
      "Logan\n",
      "Billy\n",
      "Ebony\n",
      "Deb\n"
     ]
    }
   ],
   "source": [
    "#install pyodbc driver from https://docs.microsoft.com/en-us/sql/connect/odbc/windows/system-requirements-installation-and-driver-files?view=sql-server-2017#installing-microsoft-odbc-driver-for-sql-server\n",
    "import pyodbc\n",
    "import os\n",
    "import pandas as pd\n",
    "import numpy as np\n",
    "\n",
    "server = 'adwsqlserverarash.database.windows.net'\n",
    "database = 'arashdw'\n",
    "username = 'arashaga'\n",
    "password = 'Biashead12747>'\n",
    "driver= '{ODBC Driver 17 for SQL Server}'\n",
    "cnxn = pyodbc.connect('DRIVER='+driver+';SERVER='+server+';PORT=1433;DATABASE='+database+';UID='+username+';PWD='+ password)\n",
    "cursor = cnxn.cursor()\n",
    "cursor.execute(\"SELECT TOP 20 FirstName from dbo.DimCustomer\")\n",
    "row = cursor.fetchone()\n",
    "while row:\n",
    "    print (str(row[0]))\n",
    "    row = cursor.fetchone()"
   ]
  },
  {
   "cell_type": "code",
   "execution_count": 1,
   "metadata": {},
   "outputs": [
    {
     "name": "stdout",
     "output_type": "stream",
     "text": [
      "Requirement already satisfied: pyodbc in c:\\programdata\\anaconda3\\lib\\site-packages (4.0.25)\n"
     ]
    }
   ],
   "source": []
  },
  {
   "cell_type": "code",
   "execution_count": 24,
   "metadata": {},
   "outputs": [],
   "source": [
    "\n",
    "\n",
    "allLines = []\n",
    "path = './data'\n",
    "fileList = os.listdir(path)\n",
    "for file in fileList:\n",
    "    #print(file)\n",
    "    path_tofile =path+\"/\"+file\n",
    "    df = pd.read_csv(path_tofile)\n",
    "    for index,row in df.iterrows():\n",
    "        cursor.execute(\"insert into dbo.Stock(Datet,Openp,HIgh,Low,Closep,AdjClose,Volume) values (?,?,?,?,?,?,?)\",\n",
    "        row['Date'],row['Open'],row['High'],row['Low'],row['Close'],row['Adj Close'],row['Volume'])\n",
    "        cnxn.commit()\n",
    "cursor.close()\n",
    "cnxn.close()\n"
   ]
  },
  {
   "cell_type": "code",
   "execution_count": 12,
   "metadata": {},
   "outputs": [
    {
     "data": {
      "text/html": [
       "<div>\n",
       "<style scoped>\n",
       "    .dataframe tbody tr th:only-of-type {\n",
       "        vertical-align: middle;\n",
       "    }\n",
       "\n",
       "    .dataframe tbody tr th {\n",
       "        vertical-align: top;\n",
       "    }\n",
       "\n",
       "    .dataframe thead th {\n",
       "        text-align: right;\n",
       "    }\n",
       "</style>\n",
       "<table border=\"1\" class=\"dataframe\">\n",
       "  <thead>\n",
       "    <tr style=\"text-align: right;\">\n",
       "      <th></th>\n",
       "      <th>Date</th>\n",
       "      <th>Open</th>\n",
       "      <th>High</th>\n",
       "      <th>Low</th>\n",
       "      <th>Close</th>\n",
       "      <th>Adj Close</th>\n",
       "      <th>Volume</th>\n",
       "    </tr>\n",
       "  </thead>\n",
       "  <tbody>\n",
       "    <tr>\n",
       "      <th>0</th>\n",
       "      <td>2018-05-23</td>\n",
       "      <td>96.709999</td>\n",
       "      <td>98.730003</td>\n",
       "      <td>96.320000</td>\n",
       "      <td>98.660004</td>\n",
       "      <td>97.083504</td>\n",
       "      <td>21114800</td>\n",
       "    </tr>\n",
       "    <tr>\n",
       "      <th>1</th>\n",
       "      <td>2018-05-24</td>\n",
       "      <td>98.730003</td>\n",
       "      <td>98.940002</td>\n",
       "      <td>96.809998</td>\n",
       "      <td>98.309998</td>\n",
       "      <td>96.739098</td>\n",
       "      <td>26649300</td>\n",
       "    </tr>\n",
       "    <tr>\n",
       "      <th>2</th>\n",
       "      <td>2018-05-25</td>\n",
       "      <td>98.300003</td>\n",
       "      <td>98.980003</td>\n",
       "      <td>97.860001</td>\n",
       "      <td>98.360001</td>\n",
       "      <td>96.788300</td>\n",
       "      <td>18363900</td>\n",
       "    </tr>\n",
       "    <tr>\n",
       "      <th>3</th>\n",
       "      <td>2018-05-29</td>\n",
       "      <td>97.839996</td>\n",
       "      <td>98.879997</td>\n",
       "      <td>97.230003</td>\n",
       "      <td>98.010002</td>\n",
       "      <td>96.443893</td>\n",
       "      <td>28671000</td>\n",
       "    </tr>\n",
       "    <tr>\n",
       "      <th>4</th>\n",
       "      <td>2018-05-30</td>\n",
       "      <td>98.309998</td>\n",
       "      <td>99.250000</td>\n",
       "      <td>97.910004</td>\n",
       "      <td>98.949997</td>\n",
       "      <td>97.368874</td>\n",
       "      <td>22158500</td>\n",
       "    </tr>\n",
       "  </tbody>\n",
       "</table>\n",
       "</div>"
      ],
      "text/plain": [
       "         Date       Open       High        Low      Close  Adj Close    Volume\n",
       "0  2018-05-23  96.709999  98.730003  96.320000  98.660004  97.083504  21114800\n",
       "1  2018-05-24  98.730003  98.940002  96.809998  98.309998  96.739098  26649300\n",
       "2  2018-05-25  98.300003  98.980003  97.860001  98.360001  96.788300  18363900\n",
       "3  2018-05-29  97.839996  98.879997  97.230003  98.010002  96.443893  28671000\n",
       "4  2018-05-30  98.309998  99.250000  97.910004  98.949997  97.368874  22158500"
      ]
     },
     "execution_count": 12,
     "metadata": {},
     "output_type": "execute_result"
    }
   ],
   "source": []
  },
  {
   "cell_type": "code",
   "execution_count": null,
   "metadata": {},
   "outputs": [],
   "source": []
  }
 ],
 "metadata": {
  "kernelspec": {
   "display_name": "Python 3",
   "language": "python",
   "name": "python3"
  },
  "language_info": {
   "codemirror_mode": {
    "name": "ipython",
    "version": 3
   },
   "file_extension": ".py",
   "mimetype": "text/x-python",
   "name": "python",
   "nbconvert_exporter": "python",
   "pygments_lexer": "ipython3",
   "version": "3.7.1"
  }
 },
 "nbformat": 4,
 "nbformat_minor": 2
}
